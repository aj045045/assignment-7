{
 "cells": [
  {
   "cell_type": "code",
   "execution_count": 79,
   "metadata": {},
   "outputs": [],
   "source": [
    "## Imports\n",
    "import numpy as np"
   ]
  },
  {
   "cell_type": "markdown",
   "metadata": {},
   "source": [
    "### Question - 4"
   ]
  },
  {
   "cell_type": "code",
   "execution_count": null,
   "metadata": {},
   "outputs": [],
   "source": [
    "#  a)  A 1-D array called zeros having 10 elements and all the elements are set to zero.\n",
    "npZeros = np.zeros(10)\n",
    "print(f\"A) 1-D array called zeros having 10 elements and all the elements are set to zero. :{npZeros}\")\n",
    "\n",
    "#  b)  A 1-D array called vowels having the elements ‘a’, ‘e’, ‘i’, ‘o’ and ‘u’.\n",
    "npVowels = np.array(['a','e','i','o','u'])\n",
    "print(f\"\\nB) A 1-D array called vowels having the elements ‘a’, ‘e’, ‘i’, ‘o’ and ‘u’. :{npVowels}\")\n",
    "\n",
    "#  c)  A  2-D  array  called  ones  having  2  rows  and  5 columns  and  all  the  elements  are  set  to  1  and  dtype as int.\n",
    "npDtype = np.ones((2,5),dtype='i')\n",
    "print(f\"\\nC) A 2-D array called ones having 2 rows and 5 columns and all the elements are set to 1 and dtype as int. :\\n{npDtype}\")\n",
    "\n",
    "#  d)  Use nested Python lists to create a 2-D array called  myarray1 having 3 rows and 3 columns and store the following data:  2.7,  -2,  -19  0,  3.4,  99.9  10.6,  0,  13\n",
    "np2D = np.array([[2.7,-2,-19],[0, 3.4, 99.9],[10.6, 0, 13]])\n",
    "print(f\"\\nD) Use nested Python lists to create a 2-D array called myarray1 having 3 rows and 3 columns and store the following data :\\n{np2D}\")\n",
    "\n",
    "#  e)  A  2-D  array  called  myarray2  using  arange() having 3 rows and 5 columns with start value = 4, step size 4 and dtype as float.\n",
    "npArrange = np.arange(4,62,4).reshape(3,5)\n",
    "print(f\"\\nE) A 2-D array called myarray2 using arange() having 3 rows and 5 columns with start value = 4, step size 4 and dtype as float. :\\n{npArrange}\")\n"
   ]
  },
  {
   "cell_type": "markdown",
   "metadata": {},
   "source": [
    "### Question 5"
   ]
  },
  {
   "cell_type": "code",
   "execution_count": 81,
   "metadata": {},
   "outputs": [
    {
     "name": "stdout",
     "output_type": "stream",
     "text": [
      "a)  Find the dimensions, shape, size, data type of the items  and  itemsize  of  arrays  zeros:1,  vowels:1,  ones:2, myarray1:2 and myarray2 :2\n",
      "b)  Reshape the array ones to have all the 10 elements in a single row \n",
      "[[0. 0. 0. 0. 0.]\n",
      " [0. 0. 0. 0. 0.]]\n",
      "c)  Display the 2nd and 3rd element of the array vowels. ['e' 'i']\n",
      "d)  Display all elements in the 2nd and 3rd row of the array myarray1.\n",
      "[[ 0.   3.4 99.9]\n",
      " [10.6  0.  13. ]]\n",
      "e)  Display the elements in the 1st and 2nd column of the array myarray1.\n",
      "[[ 2.7 -2. ]\n",
      " [ 0.   3.4]\n",
      " [10.6  0. ]]\n",
      "f)  Display the elements in the 1st  column  of  the  2nd and 3rd row of the array myarray1.\n",
      "[ 0.  10.6]\n",
      "g)  Reverse the array of vowels.['u' 'o' 'i' 'e' 'a']\n"
     ]
    }
   ],
   "source": [
    "#   a)  Find the dimensions, shape, size, data type of the items  and  itemsize  of  arrays  zeros,  vowels,  ones, myarray1 and myarray2.\n",
    "print(f\"a)  Find the dimensions, shape, size, data type of the items  and  itemsize  of  arrays  zeros:{npZeros.ndim},  vowels:{npVowels.ndim},  ones:{np2D.ndim}, myarray1:{np2D.ndim} and myarray2 :{npArrange.ndim}\")\n",
    "\n",
    "#   b)  Reshape the array ones to have all the 10 elements in a single row.\n",
    "print(f\"b)  Reshape the array ones to have all the 10 elements in a single row \\n{npZeros.reshape(2,5)}\")\n",
    "\n",
    "\n",
    "#   c)  Display the 2nd and 3rd element of the array vowels.\n",
    "print(f\"c)  Display the 2nd and 3rd element of the array vowels. {npVowels[1:3]}\")\n",
    "\n",
    "\n",
    "#   d)  Display all elements in the 2nd and 3rd row of the array myarray1.\n",
    "print(f\"d)  Display all elements in the 2nd and 3rd row of the array myarray1.\\n{np2D[1:3]}\")\n",
    "\n",
    "\n",
    "#   e)  Display the elements in the 1st and 2nd column of the array myarray1.\n",
    "print(f\"e)  Display the elements in the 1st and 2nd column of the array myarray1.\\n{np2D[:,:2]}\")\n",
    "\n",
    "\n",
    "#   f)  Display the elements in the 1st  column  of  the  2nd and 3rd row of the array myarray1.\n",
    "print(f\"f)  Display the elements in the 1st  column  of  the  2nd and 3rd row of the array myarray1.\\n{np2D[:,0][1:3]}\")\n",
    "\n",
    "\n",
    "#   g)  Reverse the array of vowels.\n",
    "print(f\"g)  Reverse the array of vowels.{npVowels[::-1]}\")"
   ]
  },
  {
   "cell_type": "markdown",
   "metadata": {},
   "source": [
    "### Question 6"
   ]
  },
  {
   "cell_type": "code",
   "execution_count": 82,
   "metadata": {},
   "outputs": [
    {
     "name": "stdout",
     "output_type": "stream",
     "text": [
      "a)  Divide all elements of array ones by 3\n",
      "[0. 0. 0. 0. 0. 0. 0. 0. 0. 0.].\n",
      "b)  Add the arrays myarray1 and myarray2.\n",
      " [  0  15  30  45  60  75  90 105 120 135 150 165 180 195 210 225 240 255\n",
      " 270 285]\n",
      "c)  Subtract myarray1 from myarray2 and store the result in a new array.\n",
      " [  0  -5 -10 -15 -20 -25 -30 -35 -40 -45 -50 -55 -60 -65 -70 -75 -80 -85\n",
      " -90 -95]\n",
      "d)  Multiply myarray1 and myarray2 elementwise.\n",
      " [    0    50   200   450   800  1250  1800  2450  3200  4050  5000  6050\n",
      "  7200  8450  9800 11250 12800 14450 16200 18050]\n",
      "e)  Do  the  matrix  multiplication  of  myarray1  and  myarray2  and  store  the  result  in  a  new  array  myarray3.\n",
      " [[ 870  940  980 1020]\n",
      " [1982 2188 2324 2460]\n",
      " [3094 3436 3668 3900]\n",
      " [4206 4684 5012 5340]]\n",
      "f)  Divide myarray1 by myarray2.\n",
      " [[0.09090909 0.09090909 0.09090909 0.09090909]\n",
      " [0.09090909 0.09090909 0.09090909 0.09090909]\n",
      " [0.09090909 0.09090909 0.0990991  0.10714286]\n",
      " [0.11504425 0.12280702 0.13043478 0.13793103]]\n",
      "g)  Find  the  cube  of  all  elements  of  myarray1  and  divide the resulting array by 2.\n",
      " [[5.0000e-01 4.0000e+00 1.3500e+01 3.2000e+01]\n",
      " [6.2500e+01 1.0800e+02 1.7150e+02 2.5600e+02]\n",
      " [3.6450e+02 5.0000e+02 6.6550e+02 8.6400e+02]\n",
      " [1.0985e+03 1.3720e+03 1.6875e+03 2.0480e+03]]\n",
      "h)  Find the square root of all elements of myarray2  and  divide  the  resulting  array  by  2.  The  result   should be rounded to two places of decimals.\n",
      " [[5.0000e-01 4.0000e+00 1.3500e+01 3.2000e+01]\n",
      " [6.2500e+01 1.0800e+02 1.7150e+02 2.5600e+02]\n",
      " [3.6450e+02 5.0000e+02 6.6550e+02 8.6400e+02]\n",
      " [1.0985e+03 1.3720e+03 1.6875e+03 2.0480e+03]]\n"
     ]
    }
   ],
   "source": [
    "\n",
    "#   a)  Divide all elements of array ones by 3.   \n",
    "print(f\"a)  Divide all elements of array ones by 3\\n{npZeros/10}.\")  \n",
    "\n",
    "#   b)  Add the arrays myarray1 and myarray2.\n",
    "npArrange = np.arange(0,100,5)\n",
    "npArrange2 = np.arange(0,200,10)\n",
    "print(f\"b)  Add the arrays myarray1 and myarray2.\\n {npArrange+npArrange2}\")\n",
    "\n",
    "#   c)  Subtract myarray1 from myarray2 and store the result in a new array.\n",
    "npArrangeSubtract = npArrange-npArrange2\n",
    "print(f\"c)  Subtract myarray1 from myarray2 and store the result in a new array.\\n {npArrangeSubtract}\")\n",
    "\n",
    "#   d)  Multiply myarray1 and myarray2 elementwise.\n",
    "print(f\"d)  Multiply myarray1 and myarray2 elementwise.\\n {npArrange*npArrange2}\")\n",
    "\n",
    "#   e)  Do  the  matrix  multiplication  of  myarray1  and  myarray2  and  store  the  result  in  a  new  array  myarray3.\n",
    "npMatrix = np.array([[1,2,3,4],[5,6,7,8],[9,10,11,12],[13,14,15,16]])\n",
    "npMatrix2 = np.array([[11,22,33,44],[55,66,77,88],[99,110,111,112],[113,114,115,116]])\n",
    "print(f\"e)  Do  the  matrix  multiplication  of  myarray1  and  myarray2  and  store  the  result  in  a  new  array  myarray3.\\n {np.matmul(npMatrix,npMatrix2)}\")\n",
    "\n",
    "#   f)  Divide myarray1 by myarray2.\n",
    "print(f\"f)  Divide myarray1 by myarray2.\\n {npMatrix/npMatrix2}\")\n",
    "\n",
    "#   g)  Find  the  cube  of  all  elements  of  myarray1  and  divide the resulting array by 2. \n",
    "print(f\"g)  Find  the  cube  of  all  elements  of  myarray1  and  divide the resulting array by 2.\\n {np.divide(npMatrix**3,2)}\") \n",
    "\n",
    "#   h)  Find the square root of all elements of myarray2  and  divide  the  resulting  array  by  2.  The  result   should be rounded to two places of decimals.\n",
    "print(f\"h)  Find the square root of all elements of myarray2  and  divide  the  resulting  array  by  2.  The  result   should be rounded to two places of decimals.\\n {np.round(np.divide(npMatrix**3,2),decimals=2)}\")\n"
   ]
  },
  {
   "cell_type": "markdown",
   "metadata": {},
   "source": [
    "### Question 7"
   ]
  },
  {
   "cell_type": "code",
   "execution_count": 83,
   "metadata": {},
   "outputs": [
    {
     "name": "stdout",
     "output_type": "stream",
     "text": [
      "a)  Find the transpose of ones and myarray2.\n",
      "[[ 1  5  9 13]\n",
      " [ 2  6 10 14]\n",
      " [ 3  7 11 15]\n",
      " [ 4  8 12 16]]\n",
      "\n",
      "[[ 11  55  99 113]\n",
      " [ 22  66 110 114]\n",
      " [ 33  77 111 115]\n",
      " [ 44  88 112 116]]\n",
      "b)  Sort the array vowels in reverse.\n",
      " ['u' 'o' 'i' 'e' 'a']\n",
      "c)  Sort the array myarray1  such  that  it  brings  the  lowest value of the column in the first row and so on\n",
      "[[ 1  2  3  4]\n",
      " [ 5  6  7  8]\n",
      " [ 9 10 11 12]\n",
      " [13 14 15 16]]\n"
     ]
    }
   ],
   "source": [
    "\n",
    "#   a)  Find the transpose of ones and myarray2.\n",
    "print(f\"a)  Find the transpose of ones and myarray2.\\n{npMatrix.transpose()}\\n\\n{npMatrix2.transpose()}\")\n",
    "\n",
    "#   b)  Sort the array vowels in reverse.\n",
    "print(f\"b)  Sort the array vowels in reverse.\\n {np.sort(npVowels)[::-1]}\")\n",
    "\n",
    "#   c)  Sort the array myarray1  such  that  it  brings  the  lowest value of the column in the first row and so on\n",
    "print(f\"c)  Sort the array myarray1  such  that  it  brings  the  lowest value of the column in the first row and so on\\n{np.sort(npMatrix,axis=0)}\")\n"
   ]
  },
  {
   "cell_type": "markdown",
   "metadata": {},
   "source": [
    "### Question 8"
   ]
  },
  {
   "cell_type": "code",
   "execution_count": 84,
   "metadata": {},
   "outputs": [
    {
     "name": "stdout",
     "output_type": "stream",
     "text": [
      "\n",
      "a)  Use NumPy. split() to split the array myarray2 into  5  arrays  columnwise.\n",
      "myarray2A:\n",
      " [[ 1]\n",
      " [ 6]\n",
      " [11]\n",
      " [16]]\n",
      "myarray2B:\n",
      " [[ 2]\n",
      " [ 7]\n",
      " [12]\n",
      " [17]]\n",
      "myarray2C:\n",
      " [[ 3]\n",
      " [ 8]\n",
      " [13]\n",
      " [18]]\n",
      "myarray2D:\n",
      " [[ 4]\n",
      " [ 9]\n",
      " [14]\n",
      " [19]]\n",
      "myarray2E:\n",
      " [[ 5]\n",
      " [10]\n",
      " [15]\n",
      " [20]]\n",
      "\n",
      "b)  Split the array zeros at array index 2, 5, 7, 8\n",
      "zerosA:\n",
      " [0 1]\n",
      "zerosB:\n",
      " [2 3 4]\n",
      "zerosC:\n",
      " [5 6]\n",
      "zerosD:\n",
      " [7]\n",
      "zerosE:\n",
      " [8 9]\n",
      "\n",
      "c)  Concatenate the arrays myarray2A,  myarray2B # and myarray2C into an array having 3 rows and 3 columns\n",
      "Reshaped Array (3x3):\n",
      " [[ 1  2  3]\n",
      " [ 6  7  8]\n",
      " [16 17 18]]\n"
     ]
    }
   ],
   "source": [
    "#   a)  Use NumPy. split() to split the array myarray2 into  5  arrays  columnwise.  Store  your  resulting  arrays  in  myarray2A,  myarray2B,  myarray2C,  myarray2D  and  myarray2E.  Print  the  arrays  myarray2A, myarray2B, myarray2C, myarray2D and myarray2E.\n",
    "npSplit = np.array([\n",
    "    [1, 2, 3, 4, 5],\n",
    "    [6, 7, 8, 9, 10],\n",
    "    [11, 12, 13, 14, 15],\n",
    "    [16, 17, 18, 19, 20]\n",
    "])\n",
    "myarray2A, myarray2B, myarray2C, myarray2D, myarray2E = np.split(npSplit, 5, axis=1)\n",
    "print(f\"\\na)  Use NumPy. split() to split the array myarray2 into  5  arrays  columnwise.\")\n",
    "print(\"myarray2A:\\n\", myarray2A)\n",
    "print(\"myarray2B:\\n\", myarray2B)\n",
    "print(\"myarray2C:\\n\", myarray2C)\n",
    "print(\"myarray2D:\\n\", myarray2D)\n",
    "print(\"myarray2E:\\n\", myarray2E)\n",
    "\n",
    "\n",
    "#   b)  Split the array zeros at array index 2, 5, 7, 8 and store  the  resulting  arrays  in  zerosA,  zerosB, zerosC and zerosD and print them. \n",
    "zeros = np.array([0, 1, 2, 3, 4, 5, 6, 7, 8, 9])\n",
    "zerosA, zerosB, zerosC, zerosD, zerosE = np.split(zeros, [2, 5, 7, 8])\n",
    "print(f\"\\nb)  Split the array zeros at array index 2, 5, 7, 8\")\n",
    "print(\"zerosA:\\n\", zerosA)\n",
    "print(\"zerosB:\\n\", zerosB)\n",
    "print(\"zerosC:\\n\", zerosC)\n",
    "print(\"zerosD:\\n\", zerosD)\n",
    "print(\"zerosE:\\n\", zerosE)\n",
    "\n",
    "\n",
    "#   c)  Concatenate the arrays myarray2A,  myarray2B # and myarray2C into an array having 3 rows and 3 columns\n",
    "print(f\"\\nc)  Concatenate the arrays myarray2A,  myarray2B # and myarray2C into an array having 3 rows and 3 columns\")\n",
    "concatenated_array = np.concatenate((myarray2A, myarray2B, myarray2C), axis=1)\n",
    "concatenated_array = np.delete(concatenated_array,2,axis=0)\n",
    "reshaped_array = concatenated_array.reshape((3, 3))\n",
    "print(\"Reshaped Array (3x3):\\n\", reshaped_array)"
   ]
  },
  {
   "cell_type": "markdown",
   "metadata": {},
   "source": [
    "### Question 9"
   ]
  },
  {
   "cell_type": "code",
   "execution_count": 85,
   "metadata": {},
   "outputs": [
    {
     "name": "stdout",
     "output_type": "stream",
     "text": [
      "Original Array (myarray4):\n",
      " [[-1.   -0.75 -0.5 ]\n",
      " [-0.25  0.    0.25]\n",
      " [ 0.5   0.75  1.  ]\n",
      " [ 1.25  1.5   1.75]\n",
      " [ 2.    2.25  2.5 ]\n",
      " [ 2.75  3.    3.25]\n",
      " [ 3.5   3.75  4.  ]\n",
      " [ 4.25  4.5   4.75]\n",
      " [ 5.    5.25  5.5 ]\n",
      " [ 5.75  6.    6.25]\n",
      " [ 6.5   6.75  7.  ]\n",
      " [ 7.25  7.5   7.75]\n",
      " [ 8.    8.25  8.5 ]\n",
      " [ 8.75  9.    9.25]]\n",
      "Array part 1:\n",
      " [[-1.   -0.75 -0.5 ]\n",
      " [-0.25  0.    0.25]\n",
      " [ 0.5   0.75  1.  ]\n",
      " [ 1.25  1.5   1.75]\n",
      " [ 2.    2.25  2.5 ]]\n",
      "Array part 2:\n",
      " [[2.75 3.   3.25]\n",
      " [3.5  3.75 4.  ]\n",
      " [4.25 4.5  4.75]\n",
      " [5.   5.25 5.5 ]\n",
      " [5.75 6.   6.25]]\n",
      "Array part 3:\n",
      " [[6.5  6.75 7.  ]\n",
      " [7.25 7.5  7.75]\n",
      " [8.   8.25 8.5 ]\n",
      " [8.75 9.   9.25]]\n"
     ]
    }
   ],
   "source": [
    "# Create  a  2-D  array  called  myarray4  using  arange() having  14  rows  and  3  columns  with  start  value  =  -1,  step  size  0.25  having.  Split  this  array  row  wise  into  3  equal parts and print the result\n",
    "\n",
    "rows = 14\n",
    "cols = 3\n",
    "myarray4 = np.arange(-1, -1 + rows * cols * 0.25, 0.25).reshape((rows, cols))\n",
    "print(\"Original Array (myarray4):\\n\", myarray4)\n",
    "split_arrays = np.array_split(myarray4, 3, axis=0)\n",
    "\n",
    "for i, split_array in enumerate(split_arrays, start=1):\n",
    "    print(f\"Array part {i}:\\n\", split_array)\n"
   ]
  },
  {
   "cell_type": "markdown",
   "metadata": {},
   "source": [
    "### Question 10"
   ]
  },
  {
   "cell_type": "code",
   "execution_count": 86,
   "metadata": {},
   "outputs": [
    {
     "name": "stdout",
     "output_type": "stream",
     "text": [
      "\n",
      "a)Sum of all elements: 173.25\n",
      "\n",
      "b)Sum of all elements row-wise: [-2.25  0.    2.25  4.5   6.75  9.   11.25 13.5  15.75 18.   20.25 22.5\n",
      " 24.75 27.  ]\n",
      "\n",
      "c)Sum of all elements column-wise: [54.25 57.75 61.25]\n",
      "\n",
      "d)Max of all elements: 9.25\n",
      "\n",
      "e)Min of all elements in each row: [-1.   -0.25  0.5   1.25  2.    2.75  3.5   4.25  5.    5.75  6.5   7.25\n",
      "  8.    8.75]\n",
      "\n",
      "f)Mean of all elements in each row: [-0.75  0.    0.75  1.5   2.25  3.    3.75  4.5   5.25  6.    6.75  7.5\n",
      "  8.25  9.  ]\n",
      "\n",
      "g)Standard deviation column-wise: [3.02334666 3.02334666 3.02334666]\n"
     ]
    }
   ],
   "source": [
    "# a) Sum of all elements\n",
    "\n",
    "sum_all_elements = np.sum(myarray4)\n",
    "print(\"\\na)Sum of all elements:\", sum_all_elements)\n",
    "\n",
    "# b) Sum of all elements row-wise\n",
    "sum_row_wise = np.sum(myarray4, axis=1)\n",
    "print(\"\\nb)Sum of all elements row-wise:\", sum_row_wise)\n",
    "\n",
    "# c) Sum of all elements column-wise\n",
    "sum_column_wise = np.sum(myarray4, axis=0)\n",
    "print(\"\\nc)Sum of all elements column-wise:\", sum_column_wise)\n",
    "\n",
    "# d) Max of all elements\n",
    "max_element = np.max(myarray4)\n",
    "print(\"\\nd)Max of all elements:\", max_element)\n",
    "\n",
    "# e) Min of all elements in each row\n",
    "min_row_wise = np.min(myarray4, axis=1)\n",
    "print(\"\\ne)Min of all elements in each row:\", min_row_wise)\n",
    "\n",
    "# f) Mean of all elements in each row\n",
    "mean_row_wise = np.mean(myarray4, axis=1)\n",
    "print(\"\\nf)Mean of all elements in each row:\", mean_row_wise)\n",
    "\n",
    "# g) Standard deviation column-wise\n",
    "std_dev_column_wise = np.std(myarray4, axis=0)\n",
    "print(\"\\ng)Standard deviation column-wise:\", std_dev_column_wise)"
   ]
  }
 ],
 "metadata": {
  "kernelspec": {
   "display_name": ".venv",
   "language": "python",
   "name": "python3"
  },
  "language_info": {
   "codemirror_mode": {
    "name": "ipython",
    "version": 3
   },
   "file_extension": ".py",
   "mimetype": "text/x-python",
   "name": "python",
   "nbconvert_exporter": "python",
   "pygments_lexer": "ipython3",
   "version": "3.12.5"
  }
 },
 "nbformat": 4,
 "nbformat_minor": 2
}
